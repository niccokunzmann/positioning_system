{
 "metadata": {
  "name": "",
  "signature": "sha256:72ae8d359d804adc14083019dc8520cf8c2ed76f08172be165f3773688a8e2f9"
 },
 "nbformat": 3,
 "nbformat_minor": 0,
 "worksheets": [
  {
   "cells": [
    {
     "cell_type": "code",
     "collapsed": false,
     "input": [
      "import numpy as np\n",
      "import matplotlib.pyplot as plt\n",
      "\n",
      "x = np.random.rand(5,2)*10\n",
      "a = np.matrix([ [1,x[0][0]], [1,x[1][0]], [1,x[2][0]] ])\n",
      "b = np.matrix([ [x[0][1]], [x[1][1]], [x[2][1]] ])\n",
      "yy = (a.T * a).I * a.T*b\n",
      "xx = np.linspace(1,10,50)\n",
      "y = np.array(yy[0]+yy[1]*xx)\n",
      "\n",
      "plt.figure(1)\n",
      "plt.plot(xx,y.T,color='r')\n",
      "plt.scatter([x[0][0],x[1][0],x[2][0] ],[x[0][1],x[1][1],x[2][1] ]) \n",
      "plt.title(\"\")"
     ],
     "language": "python",
     "metadata": {},
     "outputs": [
      {
       "metadata": {},
       "output_type": "pyout",
       "prompt_number": 4,
       "text": [
        "<matplotlib.text.Text at 0x5b4b930>"
       ]
      }
     ],
     "prompt_number": 4
    }
   ],
   "metadata": {}
  }
 ]
}