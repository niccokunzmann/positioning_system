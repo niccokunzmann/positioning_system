{
 "metadata": {
  "name": "",
  "signature": "sha256:7b76272b9fa83aa52cd58f4a243400721b93fcf456d36707dece9ea3b523d695"
 },
 "nbformat": 3,
 "nbformat_minor": 0,
 "worksheets": [
  {
   "cells": [
    {
     "cell_type": "markdown",
     "metadata": {},
     "source": [
      "Positionssystem\n",
      "===============\n",
      "\n",
      "Die Grundlage des Positionsystems ist ein Rechtwinkliges Dreieck \u22bfABC, in dem die Lautsprecher angeordnet sind.  \n",
      "a \u22a5 b <=> \u1d67 = 90\u00b0  \n",
      "Durch die Schalldifferenz der Lautsprecher, entstehen 3 Hyperbeln, die die Position P(x, y) genau bestimmen.  \n",
      "Strecke CA \u2225 CX = h2 \u22a5 h1 = Strecke XP \u2225 BC.  "
     ]
    },
    {
     "cell_type": "code",
     "collapsed": false,
     "input": [
      "def get_dt(a, b, x, y):\n",
      "    u = sqrt(x*x + y*y)\n",
      "    w = sqrt(y*y + (b - x)*(b - x))\n",
      "    v = sqrt((a + y)*(a + y) + x*x)\n",
      "    \n",
      "    print(\"{{p}} u, v, w = {}, {}, {}\".format(u, v, w))\n",
      "    \n",
      "    g1 = v - u\n",
      "    g2 = v - w\n",
      "    g3 = u - w\n",
      "    \n",
      "    return g1, g2, g3"
     ],
     "language": "python",
     "metadata": {},
     "outputs": [],
     "prompt_number": 2
    }
   ],
   "metadata": {}
  }
 ]
}