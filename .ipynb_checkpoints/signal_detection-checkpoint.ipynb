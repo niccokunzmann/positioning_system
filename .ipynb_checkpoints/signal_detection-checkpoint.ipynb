{
 "metadata": {
  "name": "",
  "signature": "sha256:9917281f729f6e22b7e573258864cc07eae1420098119e73f84f81e6a25d657e"
 },
 "nbformat": 3,
 "nbformat_minor": 0,
 "worksheets": [
  {
   "cells": [
    {
     "cell_type": "code",
     "collapsed": false,
     "input": [
      "import matplotlib\n",
      "matplotlib.use('svg')"
     ],
     "language": "python",
     "metadata": {},
     "outputs": []
    },
    {
     "cell_type": "code",
     "collapsed": false,
     "input": [
      "%matplotlib inline"
     ],
     "language": "python",
     "metadata": {},
     "outputs": [],
     "prompt_number": 1
    },
    {
     "cell_type": "code",
     "collapsed": false,
     "input": [
      "import matplotlib.pyplot as plt\n",
      "import numpy as np\n",
      "import math\n",
      "import random"
     ],
     "language": "python",
     "metadata": {},
     "outputs": [],
     "prompt_number": 2
    },
    {
     "cell_type": "code",
     "collapsed": false,
     "input": [
      "N = 20\n",
      "signal_sin = [int(math.sin(i / N * math. pi * 2) * 127) for i in range(N)]\n",
      "signal_cos = [int(math.cos(i / N * math. pi * 2) * 127) for i in range(N)]\n",
      "max(signal_sin)"
     ],
     "language": "python",
     "metadata": {},
     "outputs": [
      {
       "metadata": {},
       "output_type": "pyout",
       "prompt_number": 3,
       "text": [
        "127"
       ]
      }
     ],
     "prompt_number": 3
    },
    {
     "cell_type": "code",
     "collapsed": false,
     "input": [
      "def noise(gitter):\n",
      "    return random.gauss(10, gitter)\n",
      "\n",
      "def generate_signal(gitter = 0):\n",
      "    while 1:\n",
      "        value = yield noise(gitter)\n",
      "        if value:\n",
      "            for v in signal_sin:\n",
      "                yield noise(gitter) + v * value\n"
     ],
     "language": "python",
     "metadata": {},
     "outputs": [],
     "prompt_number": 4
    },
    {
     "cell_type": "code",
     "collapsed": false,
     "input": [
      "def detect_signal(signal_stream):\n",
      "    v_sin = 0\n",
      "    v_cos = 0\n",
      "    for s_sin, s_cos in zip(signal_sin, signal_cos):\n",
      "        stream_value = next(signal_stream)\n",
      "        v_sin += stream_value * s_sin\n",
      "        v_cos += stream_value * s_cos\n",
      "    amplitude = (v_sin * v_sin + v_cos * v_cos)\n",
      "    return amplitude"
     ],
     "language": "python",
     "metadata": {},
     "outputs": [],
     "prompt_number": 5
    },
    {
     "cell_type": "code",
     "collapsed": false,
     "input": [],
     "language": "python",
     "metadata": {},
     "outputs": [],
     "prompt_number": 5
    },
    {
     "cell_type": "code",
     "collapsed": false,
     "input": [
      "signal = generate_signal(200)\n",
      "\n",
      "for i in range(3):\n",
      "    print('amplitude noise:  {}'.format(detect_signal(signal)))\n",
      "    \n",
      "for i in range(3):\n",
      "    signal.send(i + 1)\n",
      "    print('amplitude signal: {}'.format(detect_signal(signal)))\n",
      "\n",
      "\n",
      "signal.send(i + 1)  \n",
      "plt.plot([next(signal) for i in range(100)])"
     ],
     "language": "python",
     "metadata": {},
     "outputs": [
      {
       "output_type": "stream",
       "stream": "stdout",
       "text": [
        "amplitude noise:  13414824578.73556\n",
        "amplitude noise:  21154384488.192837\n",
        "amplitude noise:  26800073489.456856\n",
        "amplitude signal: 28724786733.120907\n",
        "amplitude signal: 83268109825.66336\n",
        "amplitude signal: 331232451398.0453\n"
       ]
      },
      {
       "metadata": {},
       "output_type": "pyout",
       "prompt_number": 6,
       "text": [
        "[<matplotlib.lines.Line2D at 0x56218f0>]"
       ]
      },
      {
       "metadata": {},
       "output_type": "display_data",
       "png": "[encoded data removed]",
       "text": [
        "<matplotlib.figure.Figure at 0x55e80d0>"
       ]
      }
     ],
     "prompt_number": 6
    },
    {
     "cell_type": "code",
     "collapsed": false,
     "input": [
      "def detect_signal_stream(signal_stream):\n",
      "    signals = [0] * len(signal_sin)\n",
      "    v_sin = 0\n",
      "    v_cos = 0\n",
      "    i = 0\n",
      "    while 1:\n",
      "        last_stream_value = signals[i]\n",
      "        stream_value = next(signal_stream)\n",
      "        s_sin = signal_sin[i]\n",
      "        s_cos = signal_cos[i]\n",
      "        v_sin += (stream_value - last_stream_value) * s_sin\n",
      "        v_cos += (stream_value - last_stream_value) * s_cos\n",
      "        #print(v_sin, v_sin, signals)\n",
      "        amplitude = (v_sin * v_sin + v_cos * v_cos)\n",
      "        signals[i] = stream_value\n",
      "        yield amplitude\n",
      "        i += 1\n",
      "        i %= len(signal_sin)\n",
      "        \n",
      "        \n",
      "signal = generate_signal(127)\n",
      "\n",
      "\n",
      "ds = detect_signal_stream(signal)\n",
      "l = []\n",
      "for sss in range(3, 4):\n",
      "    for i in range(300):\n",
      "        l.append(next(ds))\n",
      "        #print('amplitude noise:  {}'.format(l[-1]))\n",
      "    for i in range(sss):\n",
      "        signal.send(1)\n",
      "        for i in range(len(signal_sin)):\n",
      "            l.append(next(ds))\n",
      "            #print('amplitude signal: {}'.format(l[-1]))\n",
      "    for i in range(300):\n",
      "        l.append(next(ds))\n",
      "        \n",
      "def create_filter_signal(length, center = 2):\n",
      "    filter_signal = generate_signal()\n",
      "    ds = detect_signal_stream(filter_signal)\n",
      "    for i in range(len(signal_sin)):\n",
      "        next(ds)\n",
      "    filter0 = [0 for i in range(int(len(signal_sin) * (center - length / 2)))]\n",
      "    filter = list(filter0)\n",
      "    for i in range(length):\n",
      "        filter_signal.send(1)\n",
      "        for i in range(len(signal_sin)):\n",
      "            filter.append(next(ds))\n",
      "    for i in range(len(signal_sin)):\n",
      "        filter.append(next(ds))\n",
      "    filter += filter0\n",
      "    return np.array(filter)\n",
      "\n",
      "def convolve(a, b):\n",
      "    a += [0] * len(b)\n",
      "    return np.array([sum(b[i] * a[i + j] for i in range(len(b))) for j in range(len(a) - len(b))])\n",
      "\n",
      "def same_value(l, f = max):\n",
      "    m = f(l)\n",
      "    if m == 0:\n",
      "        return l\n",
      "    return np.array([v / m for v in l])\n",
      "        \n",
      "plt.plot(same_max_value(l)) # blue\n",
      "#plt.plot(create_filter_signal(1))\n",
      "c1 = same_value(create_filter_signal(1), sum)\n",
      "c2 = same_value(create_filter_signal(2), sum)\n",
      "c3 = same_value(create_filter_signal(3), sum)\n",
      "c4 = same_value(create_filter_signal(4), sum)\n",
      "\n",
      "\n",
      "f1 = c1 - c2# / 2 - c3 / 2# - c4 / 3\n",
      "f2 = c2 - c3# / 2 - c4 / 2 # - c1 / 2 - c3 / 2\n",
      "f3 = c3# - c4# - c1 / 2 - c2 / 2\n",
      "#f4 = c4\n",
      "\n",
      "#plt.plot((convolve(l, f1))) # green\n",
      "#plt.plot((convolve(l, f2))) # red\n",
      "plt.plot((convolve(l, f3))) # cyan\n",
      "#plt.plot((convolve(l, f4))) # purple\n",
      "\n",
      "\n"
     ],
     "language": "python",
     "metadata": {},
     "outputs": [
      {
       "ename": "NameError",
       "evalue": "name 'same_max_value' is not defined",
       "output_type": "pyerr",
       "traceback": [
        "\u001b[1;31m---------------------------------------------------------------------------\u001b[0m\n\u001b[1;31mNameError\u001b[0m                                 Traceback (most recent call last)",
        "\u001b[1;32m<ipython-input-7-63b1a80a5c50>\u001b[0m in \u001b[0;36m<module>\u001b[1;34m()\u001b[0m\n\u001b[0;32m     62\u001b[0m     \u001b[1;32mreturn\u001b[0m \u001b[0mnp\u001b[0m\u001b[1;33m.\u001b[0m\u001b[0marray\u001b[0m\u001b[1;33m(\u001b[0m\u001b[1;33m[\u001b[0m\u001b[0mv\u001b[0m \u001b[1;33m/\u001b[0m \u001b[0mm\u001b[0m \u001b[1;32mfor\u001b[0m \u001b[0mv\u001b[0m \u001b[1;32min\u001b[0m \u001b[0ml\u001b[0m\u001b[1;33m]\u001b[0m\u001b[1;33m)\u001b[0m\u001b[1;33m\u001b[0m\u001b[0m\n\u001b[0;32m     63\u001b[0m \u001b[1;33m\u001b[0m\u001b[0m\n\u001b[1;32m---> 64\u001b[1;33m \u001b[0mplt\u001b[0m\u001b[1;33m.\u001b[0m\u001b[0mplot\u001b[0m\u001b[1;33m(\u001b[0m\u001b[0msame_max_value\u001b[0m\u001b[1;33m(\u001b[0m\u001b[0ml\u001b[0m\u001b[1;33m)\u001b[0m\u001b[1;33m)\u001b[0m \u001b[1;31m# blue\u001b[0m\u001b[1;33m\u001b[0m\u001b[0m\n\u001b[0m\u001b[0;32m     65\u001b[0m \u001b[1;31m#plt.plot(create_filter_signal(1))\u001b[0m\u001b[1;33m\u001b[0m\u001b[1;33m\u001b[0m\u001b[0m\n\u001b[0;32m     66\u001b[0m \u001b[0mc1\u001b[0m \u001b[1;33m=\u001b[0m \u001b[0msame_value\u001b[0m\u001b[1;33m(\u001b[0m\u001b[0mcreate_filter_signal\u001b[0m\u001b[1;33m(\u001b[0m\u001b[1;36m1\u001b[0m\u001b[1;33m)\u001b[0m\u001b[1;33m,\u001b[0m \u001b[0msum\u001b[0m\u001b[1;33m)\u001b[0m\u001b[1;33m\u001b[0m\u001b[0m\n",
        "\u001b[1;31mNameError\u001b[0m: name 'same_max_value' is not defined"
       ]
      }
     ],
     "prompt_number": 7
    },
    {
     "cell_type": "markdown",
     "metadata": {},
     "source": [
      "Arduino Wave Detection\n",
      "======================"
     ]
    },
    {
     "cell_type": "code",
     "collapsed": false,
     "input": [
      "def bits(i):\n",
      "    i = abs(i)\n",
      "    b = 1\n",
      "    n = 0\n",
      "    while b < i:\n",
      "        b *= 2\n",
      "        n += 1\n",
      "    return n\n",
      "\n",
      "def arduino_signal_amplitude(samples, wave_length):\n",
      "    s_sin = 0\n",
      "    s_cos = 0\n",
      "    sample_sum = sum(samples)\n",
      "    average_sample = sample_sum // len(samples)\n",
      "    print('sample_sum', sample_sum)\n",
      "    print('average_sample', average_sample)\n",
      "    for i, sample in enumerate(samples):\n",
      "        sin_ = int(math.sin(2 * math.pi * i / wave_length) * 127)\n",
      "        cos_ = int(math.cos(2 * math.pi * i / wave_length) * 127)\n",
      "        #print(\"sin: \", sin_) # equal\n",
      "        #print(\"cos: \", cos_) # equal\n",
      "        s_sin += (sample - average_sample) * sin_\n",
      "        #print(s_sin)\n",
      "        s_cos += (sample - average_sample) * cos_\n",
      "    print(\"sum_sinus\", s_sin)\n",
      "    print(\"sum_cosinus\", s_cos)\n",
      "    s_sin //= 512\n",
      "    s_cos //= 512\n",
      "    print(\"sin_value\", s_sin)\n",
      "    print(\"sin_value*sin_value\", s_sin*s_sin)\n",
      "    print(\"cos_value\", s_cos)\n",
      "    print(\"cos_value*cos_value\", s_cos*s_cos)\n",
      "    v = s_sin * s_sin + s_cos * s_cos\n",
      "    print(bits(v))\n",
      "    return v\n",
      "\n",
      "signal = [1023, 1023, 1023, 1023, 1023, 1, 2, 1, 1, 1, 1, 1, 1, 1, 1, 1023, 1023, 1023, 1023, 1023, 1023, 1023, 1023, 1023, 1023, 1, \n",
      "1, 1, 1, 1, 1, 2, 1, 1, 1, 1023, 1023, 1023, 1023, 1023, 1023, 1023, 1023, 1023, 1023, 1, 1, 1, 2, 1, 1, 1, \n",
      "1, 1, 1, 1023, 1023, 1023, 1023, 1023, 1023, 1023, 1023, 1023, 1023, 2, 1, 2, 1, 1, 1, 1, 1, 1, 1, 1023, 1023, 1023, \n",
      "1023, 1023, 1023, 1023, 1023, 1023, 1023, 1, 1, 1, 1, 1, 1, 1, 1, 1, 1, 1023, 1023, 1023, 1023, 1023, 1023, 1023, 1023, 1023, \n",
      "1023, 2, 1, 1, 0, 1, 1, 1, 2, 2, 0, 1023, 1023, 1023, 1023, 1023, 1023, 1023, 1023, 1023, 1023, 1, 1, 1, 1, 1, \n",
      "2, 2, 1, 1, 1, 1023, 1023, 1023, 1023, 1023, 1023, 1023, 1023, 1023, 1023, 1, 1, 1, 1, 1, 1, 1, 1, 1, 1, 1023, \n",
      "1023, 1023, 1023, 1023, 1023, 1023, 1023, 1023, 1023, 1, 1, 1, 1, 1, 1, 1, 1, 1, 1, 1023, 1023, 1023, 1023, 1023, 1023, 1023, \n",
      "1023, 1023, 1023, 1, 1, 1, 1, 1, 1, 2, 1, 1, 1, 1023, 1023, 1023, 1023, 1023, 1023, 1023, 1023, 1023, 1023, 2, 1, 1, \n",
      "1, 1, 1, 1, 1, 1, 1, 1023, 1023, 1023, 1023, 1023, 1023, 1023, 1023, 1023, 1023, 1, 2, 1, 1, 1, 1, 1, 1, 1, \n",
      "2, 1023, 1023, 1023, 1023, 1023, 1023, 1023, 1023, 1023, 1023, 1, 1, 1, 1, 1, 2, 1, 1, 2, 1, 1023, 1023, 1023, 1023, 1023, \n",
      "1023, 1023, 1023, 1023, 1023, 2, 1, 1, 1, 2, 1, 1, 1, 1, 2, 1023, 1023, 1023, 1023, 1023, 1023, 1023, 1023, 1023, 1023, 1, \n",
      "1, 1, 1, 1, 2, 1, 1, 1, 1, 1023, 1023, 1023, 1023, 1023]\n",
      "\n",
      "signal = [1023, 1023, 1023, 1023, 1023, 1023, 1, 1, 1, 1, 0, 0, 1, 2, 1, 1023, 1023, 1023, 1023, 1023, 1023, 1023, 1023, 1023, 1023, 443, \n",
      "2, 1, 1, 1, 1, 1, 1, 1, 1, 1, 1023, 1023, 1023, 1023, 1023, 1023, 1023, 1023, 1023, 1023, 1, 1, 1, 1, 1, 1, \n",
      "1, 1, 1, 1023, 1023, 1023, 1023, 1023, 1023, 1023, 1023, 1023, 1023, 64, 1, 1, 1, 1, 1, 1, 1, 1, 1, 1, 1023, 1023, \n",
      "1023, 1023, 1023, 1023, 1023, 1023, 1023, 1023, 1, 1, 1, 1, 1, 1, 1, 1, 1, 1023, 1023, 1023, 1023, 1023, 1023, 1023, 1023, 1023, \n",
      "1023, 21, 1, 0, 1, 1, 1, 2, 1, 1, 1, 1, 1023, 1023, 1023, 1023, 1023, 1023, 1023, 1023, 1023, 1023, 1, 1, 1, 1, \n",
      "1, 1, 1, 1, 1, 1023, 1023, 1023, 1023, 1023, 1023, 1023, 1023, 1023, 1023, 9, 0, 1, 1, 1, 1, 1, 1, 1, 1, 184, \n",
      "1023, 1023, 1023, 1023, 1023, 1023, 1023, 1023, 1023, 1023, 1, 1, 1, 1, 1, 1, 1, 1, 1, 1023, 1023, 1023, 1023, 1023, 1023, 1023, \n",
      "1023, 1023, 1023, 4, 1, 1, 1, 1, 1, 1, 1, 1, 1, 1, 1023, 1023, 1023, 1023, 1023, 1023, 1023, 1023, 1023, 1023, 1, 1, \n",
      "1, 1, 1, 1, 2, 1, 1, 1023, 1023, 1023, 1023, 1023, 1023, 1023, 1023, 1023, 1023, 3, 1, 1, 1, 1, 1, 1, 1, 1, \n",
      "1, 560, 1023, 1023, 1023, 1023, 1023, 1023, 1023, 1023, 1023, 1023, 2, 2, 2, 1, 0, 1, 1, 1, 1, 1023, 1023, 1023, 1023, 1023, \n",
      "1023, 1023, 1023, 1023, 1023, 2, 1, 1, 1, 1, 1, 1, 1, 1, 1, 146, 1023, 1023, 1023, 1023, 1023, 1023, 1023, 1023, 1023, 1, \n",
      "1, 1, 1, 1, 1, 1, 1, 1, 1, 1023, 1023, 1023, 1023, 1023, ]\n",
      "\n",
      "\n",
      "\n",
      "\n",
      "print(\"bits:\", bits(36483725))\n",
      "print(arduino_signal_amplitude(signal, 20))\n",
      "#print(arduino_signal_amplitude([0] * 1000, 20))"
     ],
     "language": "python",
     "metadata": {},
     "outputs": [
      {
       "output_type": "stream",
       "stream": "stdout",
       "text": [
        "bits: 26\n",
        "sample_sum 155028\n",
        "average_sample 516\n",
        "sum_sinus -173972\n",
        "sum_cosinus 12217947\n",
        "sin_value -340\n",
        "sin_value*sin_value 115600\n",
        "cos_value 23863\n",
        "cos_value*cos_value 569442769\n",
        "30\n",
        "569558369\n"
       ]
      }
     ],
     "prompt_number": 8
    },
    {
     "cell_type": "markdown",
     "metadata": {},
     "source": [
      "New Signal Detection\n",
      "===================="
     ]
    },
    {
     "cell_type": "code",
     "collapsed": false,
     "input": [
      "SIGNAL_LENGTH = 100\n",
      "\n",
      "def sin_cos(N):\n",
      "    return [int(math.sin(i / N * math.pi * 2) * 127) for i in range(SIGNAL_LENGTH)], \\\n",
      "           [int(math.cos(i / N * math.pi * 2) * 127) for i in range(SIGNAL_LENGTH)]\n",
      "    \n",
      "#N1 = 30\n",
      "#N2 = 40\n",
      "#N3 = 50\n"
     ],
     "language": "python",
     "metadata": {},
     "outputs": [],
     "prompt_number": 9
    },
    {
     "cell_type": "code",
     "collapsed": false,
     "input": [
      "def noise(gitter):\n",
      "    return random.gauss(0, gitter)\n",
      "\n",
      " # number of full cycles\n",
      "\n",
      "def generate_signal(signals, gitter = 0, samples_number = 1000):\n",
      "    s = list(signals)\n",
      "    s.sort()\n",
      "    add = []\n",
      "    samples = []\n",
      "    for i in range(samples_number):\n",
      "        sample = int(noise(gitter))\n",
      "        while s and i == s[0][1]:\n",
      "            add.append(sin_cos(s.pop(0)[0])[0])\n",
      "        for a in add[:]:\n",
      "            sample += a.pop(0)\n",
      "            if not a: \n",
      "                add.remove(a)\n",
      "        samples.append(sample)\n",
      "    return samples\n",
      "                \n",
      "plt.plot(generate_signal([[30, 30], [50, 100]], 20))"
     ],
     "language": "python",
     "metadata": {},
     "outputs": [
      {
       "metadata": {},
       "output_type": "pyout",
       "prompt_number": 17,
       "text": [
        "[<matplotlib.lines.Line2D at 0x67f2e90>]"
       ]
      },
      {
       "metadata": {},
       "output_type": "display_data",
       "png": "[encoded data removed]",
       "text": [
        "<matplotlib.figure.Figure at 0x5796dd0>"
       ]
      }
     ],
     "prompt_number": 17
    },
    {
     "cell_type": "code",
     "collapsed": false,
     "input": [
      "def detect_signal_stream(samples, N):\n",
      "    signal_sin, signal_cos = sin_cos(N)\n",
      "    processed_samples = [0] * len(signal_cos)\n",
      "    v_sin = 0\n",
      "    v_cos = 0\n",
      "    i = 0\n",
      "    amplitudes = []\n",
      "    for i, sample in enumerate(samples):\n",
      "        i %= len(signal_sin)\n",
      "        last_sample = processed_samples[i]\n",
      "        s_sin = signal_sin[i]\n",
      "        s_cos = signal_cos[i]\n",
      "        v_sin += (sample - last_sample) * s_sin\n",
      "        v_cos += (sample - last_sample) * s_cos\n",
      "        #print(v_sin, v_sin, signals)\n",
      "        amplitude = v_sin * v_sin + v_cos * v_cos\n",
      "        processed_samples[i] = sample\n",
      "        amplitudes.append(amplitude)\n",
      "    return amplitudes\n",
      "\n",
      "\n",
      "samples = generate_signal([[30, 130], [40, 300], [53, 500]], 0)\n",
      "plt.plot(same_value(samples)) # blue\n",
      "plt.plot(same_value(detect_signal_stream(samples, 30))) # green\n",
      "plt.plot(same_value(detect_signal_stream(samples, 40))) # red\n",
      "plt.plot(same_value(detect_signal_stream(samples, 53))) # cyan\n"
     ],
     "language": "python",
     "metadata": {},
     "outputs": [
      {
       "metadata": {},
       "output_type": "pyout",
       "prompt_number": 18,
       "text": [
        "[<matplotlib.lines.Line2D at 0x682cfd0>]"
       ]
      },
      {
       "metadata": {},
       "output_type": "display_data",
       "png": "[encoded data removed]",
       "text": [
        "<matplotlib.figure.Figure at 0x67d8f70>"
       ]
      }
     ],
     "prompt_number": 18
    },
    {
     "cell_type": "code",
     "collapsed": false,
     "input": [
      "def find_index(amplitudes, width = SIGNAL_LENGTH * 2):\n",
      "    max_index = max(list(range(len(amplitudes))), key = amplitudes.__getitem__)\n",
      "    samples = amplitudes[max_index - width // 2: max_index - width // 2 + width]\n",
      "    #linear_values = [s ** 0.25 for s in samples] # convert to distance which is linear\n",
      "    return sum((i + max_index - width // 2) * v for i, v in enumerate(samples)) / sum(samples)\n",
      "           #sum((i + max_index - width // 2) * v for i, v in enumerate(linear_values)) / sum(linear_values)\n"
     ],
     "language": "python",
     "metadata": {},
     "outputs": [],
     "prompt_number": 12
    },
    {
     "cell_type": "code",
     "collapsed": false,
     "input": [
      "samples = generate_signal([(30, 100), (30, 2100), (30, 4100), (30, 6100), (30, 8100), \n",
      "                           (38, 500), (38, 2500), (38, 4500), (38, 6500), (38, 8500), \n",
      "                           (48, 1100), (48, 3100), (48, 5100), (48, 7100), (48, 9100), ], 0, 10000)\n",
      "plt.plot(same_value(samples)) # blue\n",
      "\n",
      "d30 = detect_signal_stream(samples, 30)\n",
      "d38 = detect_signal_stream(samples, 38) # 30 * 2 ** 0.33333333\n",
      "d48 = detect_signal_stream(samples, 48) # 30 * 2 ** 0.66666666\n",
      "\n",
      "plt.plot(same_value(d30)) # green\n",
      "plt.plot(same_value(d38)) # red\n",
      "plt.plot(same_value(d48)) # cyan\n",
      "\n",
      "print(find_index(d30))\n",
      "print(find_index(d38))\n",
      "print(find_index(d48))"
     ],
     "language": "python",
     "metadata": {},
     "outputs": [
      {
       "output_type": "stream",
       "stream": "stdout",
       "text": [
        "200.1324942553078\n",
        "194.67453333182834\n",
        "154.99611862931752\n"
       ]
      },
      {
       "metadata": {},
       "output_type": "display_data",
       "png": "[encoded data removed]",
       "text": [
        "<matplotlib.figure.Figure at 0x67def30>"
       ]
      }
     ],
     "prompt_number": 19
    },
    {
     "cell_type": "code",
     "collapsed": false,
     "input": [
      "def find_signals(samples, frequencies, pause_between_signals = 1000):\n",
      "    number_of_frequencies = len(frequencies)\n",
      "    volume = [detect_signal_stream(samples, frequency) for frequency in frequencies]\n",
      "    maximum_volumes = [(0, 0, 0)] * number_of_frequencies # start, index, maximum_volume\n",
      "    \n"
     ],
     "language": "python",
     "metadata": {},
     "outputs": [],
     "prompt_number": 919
    },
    {
     "cell_type": "code",
     "collapsed": false,
     "input": [],
     "language": "python",
     "metadata": {},
     "outputs": [],
     "prompt_number": 919
    },
    {
     "cell_type": "code",
     "collapsed": false,
     "input": [],
     "language": "python",
     "metadata": {},
     "outputs": [],
     "prompt_number": 349
    },
    {
     "cell_type": "code",
     "collapsed": false,
     "input": [],
     "language": "python",
     "metadata": {},
     "outputs": [],
     "prompt_number": 349
    },
    {
     "cell_type": "code",
     "collapsed": false,
     "input": [],
     "language": "python",
     "metadata": {},
     "outputs": [],
     "prompt_number": 349
    },
    {
     "cell_type": "code",
     "collapsed": false,
     "input": [],
     "language": "python",
     "metadata": {},
     "outputs": [],
     "prompt_number": 349
    },
    {
     "cell_type": "code",
     "collapsed": false,
     "input": [],
     "language": "python",
     "metadata": {},
     "outputs": [],
     "prompt_number": 349
    },
    {
     "cell_type": "code",
     "collapsed": false,
     "input": [],
     "language": "python",
     "metadata": {},
     "outputs": [],
     "prompt_number": 349
    },
    {
     "cell_type": "code",
     "collapsed": false,
     "input": [],
     "language": "python",
     "metadata": {},
     "outputs": [],
     "prompt_number": 349
    },
    {
     "cell_type": "code",
     "collapsed": false,
     "input": [],
     "language": "python",
     "metadata": {},
     "outputs": []
    }
   ],
   "metadata": {}
  }
 ]
}