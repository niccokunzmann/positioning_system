{
 "metadata": {
  "name": "",
  "signature": "sha256:a733333d22a761438b54defcc1e9e58c4f9232dc55f6b0557b397c5e25681dbd"
 },
 "nbformat": 3,
 "nbformat_minor": 0,
 "worksheets": [
  {
   "cells": [
    {
     "cell_type": "code",
     "collapsed": false,
     "input": [
      "class R:\n",
      "    def __contains__(self, other):\n",
      "        return True\n",
      "    def __eq__(self, other):\n",
      "        return True\n",
      "    \n",
      "R = R()"
     ],
     "language": "python",
     "metadata": {},
     "outputs": [],
     "prompt_number": 33
    },
    {
     "cell_type": "code",
     "collapsed": false,
     "input": [
      "def solve(coefficients):\n",
      "    assert coefficients, 'need somethiing to solve'\n",
      "    order = len(coefficients) - 1\n",
      "    name = \"solve_{}\".format(order)\n",
      "    if not name in globals():\n",
      "        raise ValueError(\"can not solve a equation of order {}\".format(order))\n",
      "    function = globals()[name]\n",
      "    return function(*coefficients)"
     ],
     "language": "python",
     "metadata": {},
     "outputs": [],
     "prompt_number": 34
    },
    {
     "cell_type": "code",
     "collapsed": false,
     "input": [
      "def get_coefficients(*zeros, multiplier = 1, add = 0):\n",
      "    l = [1]\n",
      "    for zero in zeros:\n",
      "        l = [1] + [l[i] * -zero + l[i + 1] for i in range(len(l) - 1)] + [l[-1] * -zero]\n",
      "    l = [a * multiplier for a in l]\n",
      "    l[-1] += add\n",
      "    return l\n",
      "\n",
      "assert get_coefficients(5, -2) == [1, -3, -10], \"1x\u00b2 - 3x - 10\"\n",
      "\n",
      "def call(coefficients, x):\n",
      "    return sum(x ** (len(coefficients) - i - 1) * c for i, c in enumerate(coefficients))\n",
      "\n",
      "assert call([1, -3, -10], -2) == 0\n",
      "assert call([1, -3, -10], 5) == 0\n",
      "assert call([1, -3, -10], 0) != 0\n",
      "\n",
      "def approximates(a, b, epsilon = 1e-10):\n",
      "    return abs(a - b) < epsilon\n",
      "\n",
      "def test_solver(*zeros):\n",
      "    coefficients = get_coefficients(*zeros)\n",
      "    for zero in zeros:\n",
      "        assert approximates(call(coefficients, zero), 0), \\\n",
      "               \"call({}, {}) == {} == 0\".format(coefficients, zero, call(coefficients, zero))\n",
      "    zeros = list(zeros)\n",
      "    zeros.sort()\n",
      "    solutions = list(solve(coefficients))\n",
      "    solutions.sort()\n",
      "    differences_are_very_small = [approximates(a, b) for a, b in zip(zeros, solutions)]\n",
      "    assert all(differences_are_very_small), \"{} == {}\".format(zeros, solutions)\n"
     ],
     "language": "python",
     "metadata": {},
     "outputs": [],
     "prompt_number": 86
    },
    {
     "cell_type": "code",
     "collapsed": false,
     "input": [
      "def solve_0(a):\n",
      "    if a == 0:\n",
      "        return R\n",
      "    return []\n",
      "\n",
      "test_solver()"
     ],
     "language": "python",
     "metadata": {},
     "outputs": [],
     "prompt_number": 75
    },
    {
     "cell_type": "code",
     "collapsed": false,
     "input": [
      "\n",
      "def solve_1(a, b):\n",
      "    \"x | ax + b = 0\"\n",
      "    if a == 0:\n",
      "        return solve_0(b)\n",
      "    return [- b / a]\n",
      "\n",
      "\n",
      "test_solver(3)\n",
      "test_solver(-2)"
     ],
     "language": "python",
     "metadata": {},
     "outputs": [],
     "prompt_number": 76
    },
    {
     "cell_type": "code",
     "collapsed": false,
     "input": [
      "def solve_2(a, b, c):\n",
      "    if a == 0:\n",
      "        return solve_1(b, c)\n",
      "    p = b / a\n",
      "    q = c / a\n",
      "    D = p * p / 4 - q\n",
      "    if D < 0:\n",
      "        return []\n",
      "    if D == 0:\n",
      "        return [-p / 2]\n",
      "    return [- p / 2 + D ** 0.5, - p / 2 - D ** 0.5]\n",
      "\n",
      "test_solver(3, 2.3)\n",
      "test_solver(-2, 100)"
     ],
     "language": "python",
     "metadata": {},
     "outputs": [],
     "prompt_number": 77
    },
    {
     "cell_type": "code",
     "collapsed": false,
     "input": [
      "def differenciate(coefficients):\n",
      "    return [c * (len(coefficients) - i) for i, c in enumerate(coefficients[:-1])]\n",
      "\n",
      "\n",
      "def newton(coefficients, epsilon = 1e-15, max_iterations = 100000):\n",
      "    differenciation = differenciate(coefficients)\n",
      "    zero = 0\n",
      "    for i in range(max_iterations):\n",
      "        y = call(coefficients, zero)\n",
      "        if abs(y) < epsilon:\n",
      "            break\n",
      "        slope = call(differenciation, zero)\n",
      "        zeros = solve([slope, y - slope * zero])\n",
      "        assert zeros\n",
      "        zero = zeros[0]\n",
      "    return zero\n",
      "\n",
      "def test_newton(*zeros):\n",
      "    zero = newton(get_coefficients(*zeros))\n",
      "    assert any(approximates(zero, x) for x in zeros), \"{} in {}\".format(zero, zeros)\n",
      "\n",
      "\n",
      "test_newton(2)\n",
      "test_newton(-5, 2)\n",
      "test_newton(10.3, -0.0001, 2)\n",
      "test_newton(-33, 100, 2, -3)"
     ],
     "language": "python",
     "metadata": {},
     "outputs": [],
     "prompt_number": 78
    },
    {
     "cell_type": "code",
     "collapsed": false,
     "input": [
      "def solve_3(p, q, r, s):\n",
      "    zero = newton([p, q, r, s])\n",
      "    a = p\n",
      "    b = q + p * zero\n",
      "    c = - s / zero\n",
      "    assert approximates(c - b * zero, r), \"r = {} = c - bz = {} - {} = {}\".format(r, c, b * zero, c - b * zero)\n",
      "    return [zero] + solve([a, b, c])\n",
      "\n",
      "test_solver(1,2,3)\n",
      "test_solver(3, 5, -2222)\n"
     ],
     "language": "python",
     "metadata": {},
     "outputs": [],
     "prompt_number": 88
    },
    {
     "cell_type": "code",
     "collapsed": false,
     "input": [],
     "language": "python",
     "metadata": {},
     "outputs": [
      {
       "metadata": {},
       "output_type": "pyout",
       "prompt_number": 11,
       "text": [
        "(0, 0, -10)"
       ]
      }
     ],
     "prompt_number": 11
    },
    {
     "cell_type": "code",
     "collapsed": false,
     "input": [],
     "language": "python",
     "metadata": {},
     "outputs": [
      {
       "metadata": {},
       "output_type": "pyout",
       "prompt_number": 18,
       "text": [
        "[-3.0]"
       ]
      }
     ],
     "prompt_number": 18
    }
   ],
   "metadata": {}
  }
 ]
}