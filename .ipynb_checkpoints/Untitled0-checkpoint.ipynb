{
 "metadata": {
  "name": "",
  "signature": "sha256:d9df3da2a5bff024a59cb7c4c59726007010fed860fbd26dc713ee9cbedbbd80"
 },
 "nbformat": 3,
 "nbformat_minor": 0,
 "worksheets": []
}